{
  "cells": [
    {
      "cell_type": "markdown",
      "metadata": {
        "id": "m2s4kN_QPQVe"
      },
      "source": [
        "# **[Catchy Practical Title]**\n",
        "\n",
        "<img src=\"https://www.pulsecarshalton.co.uk/wp-content/uploads/2016/08/jk-placeholder-image.jpg\" width=\"60%\" />\n",
        "\n",
        "[Add prac relevant image.]\n",
        "\n",
        "<a href=\"https://colab.research.google.com/github/deep-learning-indaba/indaba-pracs-2023/blob/5-feat-introduction-to-ml-practical/practicals/Intro_ML_English_Prac.ipynb\" target=\"_parent\"><img src=\"https://colab.research.google.com/assets/colab-badge.svg\" alt=\"Open In Colab\"/></a> [Change colab link to point to prac.]\n",
        "\n",
        "© Deep Learning Indaba 2023. Apache License 2.0.\n",
        "\n",
        "**Authors:**\n",
        "\n",
        "**Reviewers:**\n",
        "\n",
        "**Introduction:**\n",
        "\n",
        "[Intro to the topic. Probably between 3-5 lines.]\n",
        "What is machine learning?\n",
        "Types of machine learning algorithms (supervised, unsupervised, reinforcement learning)\n",
        "Key concepts: features, labels, training, testing, model evaluation\n",
        "\n",
        "**Topics:**\n",
        "\n",
        "Content: [e.g. Reinforcement Learning, Computer Vision etc. Can be more than one.]\n",
        "Level: [Beginner, Intermediate, Advanced.]\n",
        "\n",
        "[Let's use the colours from notion here. E.g. <font color='grey'>`Beginner`</font> and <font color='blue'>`Generative Models`</font>.]\n",
        "\n",
        "\n",
        "**Aims/Learning Objectives:**\n",
        "\n",
        "[Points on the exact learning outcomes from the prac. This should probably be <=5 things.]\n",
        "\n",
        "**Prerequisites:**\n",
        "\n",
        "[Knowledge required for this prac. You can link a relevant parallel track session, blogs, papers, courses, topics etc.]\n",
        "\n",
        "**Outline:**\n",
        "\n",
        ">[[Catchy Practical Title]](#scrollTo=m2s4kN_QPQVe)\n",
        "\n",
        ">>[Installation and Imports](#scrollTo=6EqhIg1odqg0)\n",
        "\n",
        ">>[Exploratory Data Analysis (EDA)](#scrollTo=-ZUp8i37dFbU)\n",
        "\n",
        ">>>[1.1 Loading and inspecting the dataset - Beginner](#scrollTo=ii__Bc27epiJ)\n",
        "\n",
        ">>>[1.2 Handling missing data - Intermediate](#scrollTo=Rd7xAVznfBQU)\n",
        "\n",
        ">>>[1.3 Data visualization techniques - Advanced](#scrollTo=7SrT6swYgCm9)\n",
        "\n",
        ">>>>[Histograms - Beginner](#scrollTo=3-azthoBFdfz)\n",
        "\n",
        ">>>>[Box plots - Beginner](#scrollTo=lse5RZtYFc1N)\n",
        "\n",
        ">>>>[Scatter plots - Beginner](#scrollTo=HI9w4CkFF5ln)\n",
        "\n",
        ">>>>[Correlation analysis - Beginner](#scrollTo=tByA4UzOGpEv)\n",
        "\n",
        ">>>[1.4 Feature engineering and data preprocessing - Beginner](#scrollTo=fozyKghDHAV5)\n",
        "\n",
        ">>>>[Handling categorical variables - Beginner](#scrollTo=Eba5unTdHW5t)\n",
        "\n",
        ">>>>[Feature scaling - Beginner](#scrollTo=Amo5PHsXHqM5)\n",
        "\n",
        ">>>>[Handling outliers - Beginner](#scrollTo=6RC1We7lH9k-)\n",
        "\n",
        ">>>[1.5 Extracting insights from the data - Intermediate](#scrollTo=78D1HBPIIbjE)\n",
        "\n",
        ">>>>[Identifying trends and patterns - Beginner](#scrollTo=vv9p0W60IzRM)\n",
        "\n",
        ">>>>[Uncovering relationships between variables - Beginner](#scrollTo=27Cf35X_JDFn)\n",
        "\n",
        ">>>[1.6 Subsection - Homework](#scrollTo=h7N-PXjlgkAd)\n",
        "\n",
        ">>[Regression using JAX](#scrollTo=e9NW58_3hAg2)\n",
        "\n",
        ">>>[2.1 Linear regression - Beginner](#scrollTo=bA_2coZvhAg3)\n",
        "\n",
        ">>>>[Model representation - Beginner](#scrollTo=kRQihf7uLExw)\n",
        "\n",
        ">>>>[Cost function and optimization - Beginner](#scrollTo=hNJgESq_LP4R)\n",
        "\n",
        ">>>>[Training the model using Jax - Beginner](#scrollTo=q9dQh9DdLYPE)\n",
        "\n",
        ">>>[2.2 Non linear regression and neural networks  - Intermediate](#scrollTo=BKtMEnRkhAg9)\n",
        "\n",
        ">>>>[Model representation - Beginner](#scrollTo=XStsgHB2MarI)\n",
        "\n",
        ">>>>[Activation functions - Beginner](#scrollTo=fkpytbBzMvMj)\n",
        "\n",
        ">>>>[Building a simple neural network model with Jax - Beginner](#scrollTo=3Wrxt2orM7sk)\n",
        "\n",
        ">>>>[Training a neural network model with Jax - Beginner](#scrollTo=4seRvZDxNa87)\n",
        "\n",
        ">>[Classification using Jax](#scrollTo=fbTsk0MdhAhC)\n",
        "\n",
        ">>>[3.1 Logistic regression - Beginner](#scrollTo=wMgxJU0TOX6O)\n",
        "\n",
        ">>>>[Logits and sigmoid activation function - Beginner](#scrollTo=SE1L3rmaO4UP)\n",
        "\n",
        ">>>>[Building a simple neural network for classification - Beginner](#scrollTo=EcXXE56hPOhK)\n",
        "\n",
        ">>>>[Training the model - Beginner](#scrollTo=GcSvlekHPWxW)\n",
        "\n",
        ">>>>[Evaluating the model - Beginner](#scrollTo=sGPvmGWkP1fT)\n",
        "\n",
        ">>>[3.4 Subsection - Homework](#scrollTo=SdNPg0pnhAhG)\n",
        "\n",
        ">>[Conclusion](#scrollTo=fV3YG7QOZD-B)\n",
        "\n",
        ">>[Feedback](#scrollTo=o1ndpYE50BpG)\n",
        "\n",
        "**Before you start:**\n",
        "\n",
        "For this practical, you will need to use a GPU to speed up training. To do this, go to the \"Runtime\" menu in Colab, select \"Change runtime type\" and then in the popup menu, choose \"GPU\" in the \"Hardware accelerator\" box.\n",
        "\n",
        "[Any other tasks just before starting.]"
      ]
    },
    {
      "cell_type": "code",
      "source": [],
      "metadata": {
        "id": "xaOAvJFy8aR9"
      },
      "execution_count": null,
      "outputs": []
    },
    {
      "cell_type": "code",
      "source": [],
      "metadata": {
        "id": "29LuxBfm8atp"
      },
      "execution_count": null,
      "outputs": []
    },
    {
      "cell_type": "markdown",
      "source": [
        "**Suggested experience level in this topic:**\n",
        "\n",
        "| Level         | Experience                            |\n",
        "| --- | --- |\n",
        "`Beginner`      | It is my first time being introduced to this work. |\n",
        "`Intermediate`  | I have done some basic courses/intros on this topic. |\n",
        "`Advanced`      | I work in this area/topic daily. |"
      ],
      "metadata": {
        "id": "952qogb79nnY"
      }
    },
    {
      "cell_type": "code",
      "source": [],
      "metadata": {
        "id": "BrIW9KWf8WLI"
      },
      "execution_count": null,
      "outputs": []
    },
    {
      "cell_type": "code",
      "source": [],
      "metadata": {
        "id": "sGklIl1S8Wkr"
      },
      "execution_count": null,
      "outputs": []
    },
    {
      "cell_type": "code",
      "source": [
        "# @title **Paths to follow:** What is your level of experience in the topics presented in this notebook? (Run Cell)\n",
        "experience = \"advanced\" #@param [\"beginner\", \"intermediate\", \"advanced\"]\n",
        "\n",
        "sections_to_follow=\"\"\n",
        "\n",
        "if experience == \"beginner\":\n",
        "  sections_to_follow=\"Introduction -> 1.1 Subsection -> 2.1 Subsection -> Conclusion -> Feedback\"\n",
        "elif experience == \"intermediate\":\n",
        "  sections_to_follow=\"Introduction -> 1.2 Subsection -> 2.2 Subsection -> Conclusion -> Feedback\"\n",
        "elif experience == \"advanced\":\n",
        "  sections_to_follow=\"Introduction -> 1.3 Subsection -> 2.3 Subsection -> Conclusion -> Feedback\"\n",
        "\n",
        "print(f\"Based on your experience, it is advised you follow these -- {sections_to_follow} sections. Note this is just a guideline.\")"
      ],
      "metadata": {
        "cellView": "form",
        "id": "YBdDHcI_ArCR"
      },
      "execution_count": null,
      "outputs": []
    },
    {
      "cell_type": "markdown",
      "metadata": {
        "id": "6EqhIg1odqg0"
      },
      "source": [
        "## Installation and Imports"
      ]
    },
    {
      "cell_type": "code",
      "execution_count": null,
      "metadata": {
        "id": "4boGA9rYdt9l"
      },
      "outputs": [],
      "source": [
        "## Install and import anything required. Capture hides the output from the cell.\n",
        "# @title Install and import required packages. (Run Cell)\n",
        "\n",
        "import jax\n",
        "import jax.numpy as jnp\n",
        "from jax import grad, jit, vmap\n",
        "\n",
        "import matplotlib.pyplot as plt\n",
        "import numpy as np"
      ]
    },
    {
      "cell_type": "code",
      "execution_count": null,
      "metadata": {
        "id": "-9X10jhocGaS"
      },
      "outputs": [],
      "source": [
        "# @title Helper Functions. (Run Cell)"
      ]
    },
    {
      "cell_type": "markdown",
      "metadata": {
        "id": "-ZUp8i37dFbU"
      },
      "source": [
        "## **Exploratory Data Analysis (EDA)**\n",
        "\n",
        "[Short introduction outline the content of the section. The aim of this section is to perform EDA with one of the datasets that will be use later for modelling and discuss various insights.]\n"
      ]
    },
    {
      "cell_type": "markdown",
      "metadata": {
        "id": "ii__Bc27epiJ"
      },
      "source": [
        "### 1.1 Loading and inspecting the dataset - <font color='blue'>`Beginner`</font>"
      ]
    },
    {
      "cell_type": "markdown",
      "metadata": {
        "id": "4PbcFsfAibBu"
      },
      "source": [
        "Math foundations:\n"
      ]
    },
    {
      "cell_type": "markdown",
      "metadata": {
        "id": "axeZiGJxibBw"
      },
      "source": [
        "**Math Task:**\n",
        "\n",
        "[Optional math task or ask multiple choice question. E.g. the derivation of this would equal a, b or c. We could check this at the end of the prac.]\n"
      ]
    },
    {
      "cell_type": "code",
      "execution_count": null,
      "metadata": {
        "cellView": "form",
        "id": "vCURjj1HkQkW"
      },
      "outputs": [],
      "source": [
        "selection = \"a\"  # @param [\"a\", \"b\", \"c\"]\n",
        "print(f\"You selected: {selection}\")\n",
        "\n",
        "correct_answer = \"a\"\n",
        "assert selection == correct_answer, \"Incorrect answer, hint ...\"\n",
        "\n",
        "print(\"Nice, you got the correct answer!\")"
      ]
    },
    {
      "cell_type": "markdown",
      "metadata": {
        "id": "HvbKqrRniVDa"
      },
      "source": [
        "Code demonstration"
      ]
    },
    {
      "cell_type": "code",
      "execution_count": null,
      "metadata": {
        "id": "mNQ8Dgx2Wl8Q"
      },
      "outputs": [],
      "source": [
        "# Code demonstration"
      ]
    },
    {
      "cell_type": "markdown",
      "metadata": {
        "id": "jukLIz2oeiq9"
      },
      "source": [
        "**Code Task:**"
      ]
    },
    {
      "cell_type": "code",
      "execution_count": null,
      "metadata": {
        "id": "fFXVVGa6elwN"
      },
      "outputs": [],
      "source": [
        "# Code to be implemented during practical\n",
        "# You should prove the function signature.\n",
        "def addition(x,y):\n",
        "  # calc a\n",
        "  a= ...\n",
        "\n",
        "\n",
        "  return _"
      ]
    },
    {
      "cell_type": "code",
      "source": [
        "# @title Run me to test your code\n",
        "\n",
        "def test_addition(add_fn):\n",
        "  assert add_fn(1,1) == 2, \"Addition of 1 + 1 is incorrect\"\n",
        "  assert add_fn(0,1) == 1, \"Addition of 0 + 1 is incorrect\"\n",
        "  print(\"Nice! Your answer looks correct.\")\n",
        "\n",
        "test_addition(addition)"
      ],
      "metadata": {
        "cellView": "form",
        "id": "uSjVSFTA_Gdv"
      },
      "execution_count": null,
      "outputs": []
    },
    {
      "cell_type": "code",
      "execution_count": null,
      "metadata": {
        "id": "lDq7CAcAd49i"
      },
      "outputs": [],
      "source": [
        "# @title Answer to code task (Try not to peek until you've given it a good try!')\n",
        "\n",
        "def addition(x,y):\n",
        "  return x + y\n",
        "\n",
        "test_addition(addition)"
      ]
    },
    {
      "cell_type": "markdown",
      "metadata": {
        "id": "QhIkaajyaYGl"
      },
      "source": [
        "**Group Task:**\n",
        "\n",
        "Task that involves asking your neighbour or a group a question."
      ]
    },
    {
      "cell_type": "markdown",
      "metadata": {
        "id": "Rd7xAVznfBQU"
      },
      "source": [
        "### 1.2 Handling missing data - <font color='orange'>`Intermediate`</font>"
      ]
    },
    {
      "cell_type": "markdown",
      "metadata": {
        "id": "jWlwCNlqfBQV"
      },
      "source": [
        "Math foundations:\n"
      ]
    },
    {
      "cell_type": "markdown",
      "metadata": {
        "id": "8YcpW8yAfBQW"
      },
      "source": [
        "**Math Task:**\n",
        "\n",
        "[Optional math task or ask multiple choice question. E.g. the derivation of this would equal a, b or c. We could check this at the end of the prac.]\n"
      ]
    },
    {
      "cell_type": "code",
      "execution_count": null,
      "metadata": {
        "cellView": "form",
        "id": "nyvX-3OJfBQW"
      },
      "outputs": [],
      "source": [
        "selection = \"a\"  # @param [\"a\", \"b\", \"c\"]\n",
        "print(f\"You selected: {selection}\")\n",
        "\n",
        "correct_answer = \"a\"\n",
        "assert selection == correct_answer, \"Incorrect answer, hint ...\"\n",
        "\n",
        "print(\"Nice, you got the correct answer!\")"
      ]
    },
    {
      "cell_type": "markdown",
      "metadata": {
        "id": "HsUbInznfBQX"
      },
      "source": [
        "Code demonstration"
      ]
    },
    {
      "cell_type": "code",
      "execution_count": null,
      "metadata": {
        "id": "qH-P90ULfBQY"
      },
      "outputs": [],
      "source": [
        "# Code demonstration"
      ]
    },
    {
      "cell_type": "markdown",
      "metadata": {
        "id": "iQJtf6sCfBQY"
      },
      "source": [
        "**Code Task:**"
      ]
    },
    {
      "cell_type": "code",
      "execution_count": null,
      "metadata": {
        "id": "LICrxTN5fBQZ"
      },
      "outputs": [],
      "source": [
        "# Code to be implemented during practical\n",
        "# You should prove the function signature.\n",
        "def addition(x,y):\n",
        "  return _"
      ]
    },
    {
      "cell_type": "code",
      "source": [
        "# @title Run me to test your code\n",
        "\n",
        "def test_addition(add_fn):\n",
        "  assert add_fn(1,1) == 2, \"Addition of 1 + 1 is incorrect\"\n",
        "  assert add_fn(0,1) == 1, \"Addition of 0 + 1 is incorrect\"\n",
        "  print(\"Nice! Your answer looks correct.\")\n",
        "\n",
        "test_addition(addition)"
      ],
      "metadata": {
        "cellView": "form",
        "id": "URLJOqNqDZoX"
      },
      "execution_count": null,
      "outputs": []
    },
    {
      "cell_type": "code",
      "execution_count": null,
      "metadata": {
        "cellView": "form",
        "id": "wdrxamLfDZoX"
      },
      "outputs": [],
      "source": [
        "# @title Answer to code task (Try not to peek until you've given it a good try!')\n",
        "\n",
        "def addition(x,y):\n",
        "  return x + y\n",
        "\n",
        "test_addition(addition)"
      ]
    },
    {
      "cell_type": "markdown",
      "metadata": {
        "id": "vZe6TDuNfBQa"
      },
      "source": [
        "**Group Task:**\n",
        "\n",
        "Task that involves asking your neighbour or a group a question."
      ]
    },
    {
      "cell_type": "markdown",
      "metadata": {
        "id": "7SrT6swYgCm9"
      },
      "source": [
        "### 1.3 Data visualization techniques - <font color='green'>`Advanced`</font>"
      ]
    },
    {
      "cell_type": "markdown",
      "source": [
        "#### Histograms - <font color='blue'>`Beginner`</font>"
      ],
      "metadata": {
        "id": "3-azthoBFdfz"
      }
    },
    {
      "cell_type": "markdown",
      "source": [
        "#### Box plots - <font color='blue'>`Beginner`</font>"
      ],
      "metadata": {
        "id": "lse5RZtYFc1N"
      }
    },
    {
      "cell_type": "markdown",
      "source": [
        "#### Scatter plots - <font color='blue'>`Beginner`</font>"
      ],
      "metadata": {
        "id": "HI9w4CkFF5ln"
      }
    },
    {
      "cell_type": "markdown",
      "source": [
        "#### Correlation analysis - <font color='blue'>`Beginner`</font>"
      ],
      "metadata": {
        "id": "tByA4UzOGpEv"
      }
    },
    {
      "cell_type": "markdown",
      "source": [
        "### 1.4 Feature engineering and data preprocessing - <font color='blue'>`Beginner`</font>"
      ],
      "metadata": {
        "id": "fozyKghDHAV5"
      }
    },
    {
      "cell_type": "markdown",
      "source": [
        "#### Handling categorical variables - <font color='blue'>`Beginner`</font>"
      ],
      "metadata": {
        "id": "Eba5unTdHW5t"
      }
    },
    {
      "cell_type": "code",
      "source": [],
      "metadata": {
        "id": "h5cZ90mHHVhd"
      },
      "execution_count": null,
      "outputs": []
    },
    {
      "cell_type": "markdown",
      "source": [
        "#### Feature scaling - <font color='blue'>`Beginner`</font>\n",
        "\n"
      ],
      "metadata": {
        "id": "Amo5PHsXHqM5"
      }
    },
    {
      "cell_type": "markdown",
      "source": [
        "#### Handling outliers - <font color='blue'>`Beginner`</font>"
      ],
      "metadata": {
        "id": "6RC1We7lH9k-"
      }
    },
    {
      "cell_type": "markdown",
      "source": [
        "### 1.5 Extracting insights from the data - <font color='orange'>`Intermediate`</font>"
      ],
      "metadata": {
        "id": "78D1HBPIIbjE"
      }
    },
    {
      "cell_type": "markdown",
      "source": [
        "#### Identifying trends and patterns - <font color='blue'>`Beginner`</font>"
      ],
      "metadata": {
        "id": "vv9p0W60IzRM"
      }
    },
    {
      "cell_type": "markdown",
      "source": [
        "#### Uncovering relationships between variables - <font color='blue'>`Beginner`</font>\n",
        "[Mention dimensionality reduction here]"
      ],
      "metadata": {
        "id": "27Cf35X_JDFn"
      }
    },
    {
      "cell_type": "markdown",
      "metadata": {
        "id": "h7N-PXjlgkAd"
      },
      "source": [
        "### 1.6 Subsection - <font color='purple'>`Homework`</font>"
      ]
    },
    {
      "cell_type": "markdown",
      "metadata": {
        "id": "OXDPiQMHgkAe"
      },
      "source": [
        "Math foundations:\n"
      ]
    },
    {
      "cell_type": "markdown",
      "metadata": {
        "id": "tGEzmGEkgkAe"
      },
      "source": [
        "**Math Task:**\n",
        "\n",
        "[Optional math task or ask multiple choice question. E.g. the derivation of this would equal a, b or c. We could check this at the end of the prac.]\n"
      ]
    },
    {
      "cell_type": "code",
      "execution_count": null,
      "metadata": {
        "cellView": "form",
        "id": "kbeCT6qfgkAf"
      },
      "outputs": [],
      "source": [
        "selection = \"a\"  # @param [\"a\", \"b\", \"c\"]\n",
        "print(f\"You selected: {selection}\")\n",
        "\n",
        "correct_answer = \"a\"\n",
        "assert selection == correct_answer, \"Incorrect answer, hint ...\"\n",
        "\n",
        "print(\"Nice, you got the correct answer!\")"
      ]
    },
    {
      "cell_type": "markdown",
      "metadata": {
        "id": "NgccgCDjgkAg"
      },
      "source": [
        "Code demonstration"
      ]
    },
    {
      "cell_type": "code",
      "execution_count": null,
      "metadata": {
        "id": "3uk14cnTgkAh"
      },
      "outputs": [],
      "source": [
        "# Code demonstration"
      ]
    },
    {
      "cell_type": "markdown",
      "metadata": {
        "id": "5IHFxhVWgkAi"
      },
      "source": [
        "**Code Task:**"
      ]
    },
    {
      "cell_type": "code",
      "execution_count": null,
      "metadata": {
        "id": "qVP_4c03gkAi"
      },
      "outputs": [],
      "source": [
        "# Code to be implemented during practical\n",
        "# You should prove the function signature.\n",
        "def addition(x,y):\n",
        "  return _"
      ]
    },
    {
      "cell_type": "code",
      "source": [
        "# @title Run me to test your code\n",
        "\n",
        "def test_addition(add_fn):\n",
        "  assert add_fn(1,1) == 2, \"Addition of 1 + 1 is incorrect\"\n",
        "  assert add_fn(0,1) == 1, \"Addition of 0 + 1 is incorrect\"\n",
        "  print(\"Nice! Your answer looks correct.\")\n",
        "\n",
        "test_addition(addition)"
      ],
      "metadata": {
        "cellView": "form",
        "id": "qShB3doVDi01"
      },
      "execution_count": null,
      "outputs": []
    },
    {
      "cell_type": "code",
      "execution_count": null,
      "metadata": {
        "cellView": "form",
        "id": "2JZH-9LZDi02"
      },
      "outputs": [],
      "source": [
        "# @title Answer to code task (Try not to peek until you've given it a good try!')\n",
        "\n",
        "def addition(x,y):\n",
        "  return x + y\n",
        "\n",
        "test_addition(addition)"
      ]
    },
    {
      "cell_type": "markdown",
      "metadata": {
        "id": "FVw9C8GugkAj"
      },
      "source": [
        "**Group Task:**\n",
        "\n",
        "Task that involves asking your neighbour or a group a question."
      ]
    },
    {
      "cell_type": "markdown",
      "metadata": {
        "id": "e9NW58_3hAg2"
      },
      "source": [
        "## **Regression using JAX**\n",
        "\n",
        "[Background/content for the section.]"
      ]
    },
    {
      "cell_type": "markdown",
      "metadata": {
        "id": "bA_2coZvhAg3"
      },
      "source": [
        "### 2.1 Linear regression - <font color='blue'>`Beginner`</font>"
      ]
    },
    {
      "cell_type": "markdown",
      "source": [
        "#### Model representation - <font color='blue'>`Beginner`</font>"
      ],
      "metadata": {
        "id": "kRQihf7uLExw"
      }
    },
    {
      "cell_type": "markdown",
      "source": [
        "#### Cost function and optimization - <font color='blue'>`Beginner`</font>"
      ],
      "metadata": {
        "id": "hNJgESq_LP4R"
      }
    },
    {
      "cell_type": "markdown",
      "source": [
        "#### Training the model using Jax - <font color='blue'>`Beginner`</font>"
      ],
      "metadata": {
        "id": "q9dQh9DdLYPE"
      }
    },
    {
      "cell_type": "markdown",
      "metadata": {
        "id": "q1I8M0zkhAg3"
      },
      "source": [
        "Math foundations:\n"
      ]
    },
    {
      "cell_type": "code",
      "source": [],
      "metadata": {
        "id": "_VnPLARlLDas"
      },
      "execution_count": null,
      "outputs": []
    },
    {
      "cell_type": "markdown",
      "metadata": {
        "id": "0Ue8vgIqhAg4"
      },
      "source": [
        "**Math Task:**\n",
        "\n",
        "[Optional math task or ask multiple choice question. E.g. the derivation of this would equal a, b or c. We could check this at the end of the prac.]\n"
      ]
    },
    {
      "cell_type": "code",
      "execution_count": null,
      "metadata": {
        "cellView": "form",
        "id": "0EDwsEoFhAg4"
      },
      "outputs": [],
      "source": [
        "selection = \"a\"  # @param [\"a\", \"b\", \"c\"]\n",
        "print(f\"You selected: {selection}\")\n",
        "\n",
        "correct_answer = \"a\"\n",
        "assert selection == correct_answer, \"Incorrect answer, hint ...\"\n",
        "\n",
        "print(\"Nice, you got the correct answer!\")"
      ]
    },
    {
      "cell_type": "markdown",
      "metadata": {
        "id": "I-La9MnkhAg7"
      },
      "source": [
        "Code demonstration"
      ]
    },
    {
      "cell_type": "code",
      "execution_count": null,
      "metadata": {
        "id": "qoFbSQWGhAg7"
      },
      "outputs": [],
      "source": [
        "# Code demonstration"
      ]
    },
    {
      "cell_type": "markdown",
      "metadata": {
        "id": "sMU5bEAdhAg7"
      },
      "source": [
        "**Code Task:**"
      ]
    },
    {
      "cell_type": "code",
      "execution_count": null,
      "metadata": {
        "id": "5gbBCDwQhAg8"
      },
      "outputs": [],
      "source": [
        "# Code to be implemented during practical\n",
        "# You should prove the function signature.\n",
        "def addition(x,y):\n",
        "  return _"
      ]
    },
    {
      "cell_type": "code",
      "source": [
        "# @title Run me to test your code\n",
        "\n",
        "def test_addition(add_fn):\n",
        "  assert add_fn(1,1) == 2, \"Addition of 1 + 1 is incorrect\"\n",
        "  assert add_fn(0,1) == 1, \"Addition of 0 + 1 is incorrect\"\n",
        "  print(\"Nice! Your answer looks correct.\")\n",
        "\n",
        "test_addition(addition)"
      ],
      "metadata": {
        "cellView": "form",
        "id": "OS7ZttfDDlqt"
      },
      "execution_count": null,
      "outputs": []
    },
    {
      "cell_type": "code",
      "execution_count": null,
      "metadata": {
        "cellView": "form",
        "id": "BjzBjKW9Dlqv"
      },
      "outputs": [],
      "source": [
        "# @title Answer to code task (Try not to peek until you've given it a good try!')\n",
        "\n",
        "def addition(x,y):\n",
        "  return x + y\n",
        "\n",
        "test_addition(addition)"
      ]
    },
    {
      "cell_type": "markdown",
      "metadata": {
        "id": "W0-GWYVEhAg9"
      },
      "source": [
        "**Group Task:**\n",
        "\n",
        "Task that involves asking your neighbour or a group a question."
      ]
    },
    {
      "cell_type": "markdown",
      "metadata": {
        "id": "BKtMEnRkhAg9"
      },
      "source": [
        "### 2.2 Non linear regression and neural networks  - <font color='orange'>`Intermediate`</font>"
      ]
    },
    {
      "cell_type": "markdown",
      "source": [
        "#### Model representation - <font color='blue'>`Beginner`</font>\n",
        "[Talk about non linear regression and introduce neural networks]"
      ],
      "metadata": {
        "id": "XStsgHB2MarI"
      }
    },
    {
      "cell_type": "markdown",
      "metadata": {
        "id": "ZnFpRAi_hAg-"
      },
      "source": [
        "Math foundations:\n"
      ]
    },
    {
      "cell_type": "markdown",
      "source": [
        "#### Activation functions - <font color='blue'>`Beginner`</font>"
      ],
      "metadata": {
        "id": "fkpytbBzMvMj"
      }
    },
    {
      "cell_type": "markdown",
      "metadata": {
        "id": "NAQn8NUPhAg-"
      },
      "source": [
        "**Math Task:**\n",
        "\n",
        "[Optional math task or ask multiple choice question. E.g. the derivation of this would equal a, b or c. We could check this at the end of the prac.]\n"
      ]
    },
    {
      "cell_type": "markdown",
      "source": [
        "#### Building a simple neural network model with Jax - <font color='blue'>`Beginner`</font>"
      ],
      "metadata": {
        "id": "3Wrxt2orM7sk"
      }
    },
    {
      "cell_type": "markdown",
      "source": [],
      "metadata": {
        "id": "0ySKhp6fNUnK"
      }
    },
    {
      "cell_type": "markdown",
      "source": [
        "#### Training a neural network model with Jax - <font color='blue'>`Beginner`</font>"
      ],
      "metadata": {
        "id": "4seRvZDxNa87"
      }
    },
    {
      "cell_type": "code",
      "execution_count": null,
      "metadata": {
        "cellView": "form",
        "id": "kchv_MD3hAg-"
      },
      "outputs": [],
      "source": [
        "selection = \"a\"  # @param [\"a\", \"b\", \"c\"]\n",
        "print(f\"You selected: {selection}\")\n",
        "\n",
        "correct_answer = \"a\"\n",
        "assert selection == correct_answer, \"Incorrect answer, hint ...\"\n",
        "\n",
        "print(\"Nice, you got the correct answer!\")"
      ]
    },
    {
      "cell_type": "markdown",
      "metadata": {
        "id": "jju83hyHhAg_"
      },
      "source": [
        "Code demonstration"
      ]
    },
    {
      "cell_type": "code",
      "execution_count": null,
      "metadata": {
        "id": "duJQO4WphAhA"
      },
      "outputs": [],
      "source": [
        "# Code demonstration"
      ]
    },
    {
      "cell_type": "markdown",
      "metadata": {
        "id": "fte3PiIQhAhA"
      },
      "source": [
        "**Code Task:**"
      ]
    },
    {
      "cell_type": "code",
      "execution_count": null,
      "metadata": {
        "id": "mcKJw4PXhAhA"
      },
      "outputs": [],
      "source": [
        "# Code to be implemented during practical\n",
        "# You should prove the function signature.\n",
        "def addition(x,y):\n",
        "  return _"
      ]
    },
    {
      "cell_type": "code",
      "source": [
        "# @title Run me to test your code\n",
        "\n",
        "def test_addition(add_fn):\n",
        "  assert add_fn(1,1) == 2, \"Addition of 1 + 1 is incorrect\"\n",
        "  assert add_fn(0,1) == 1, \"Addition of 0 + 1 is incorrect\"\n",
        "  print(\"Nice! Your answer looks correct.\")\n",
        "\n",
        "test_addition(addition)"
      ],
      "metadata": {
        "cellView": "form",
        "id": "Y_DE4NIRDp9I"
      },
      "execution_count": null,
      "outputs": []
    },
    {
      "cell_type": "code",
      "execution_count": null,
      "metadata": {
        "cellView": "form",
        "id": "847qtxpwDp9I"
      },
      "outputs": [],
      "source": [
        "# @title Answer to code task (Try not to peek until you've given it a good try!')\n",
        "\n",
        "def addition(x,y):\n",
        "  return x + y\n",
        "\n",
        "test_addition(addition)"
      ]
    },
    {
      "cell_type": "markdown",
      "metadata": {
        "id": "A0lriZAWhAhB"
      },
      "source": [
        "**Group Task:**\n",
        "\n",
        "Task that involves asking your neighbour or a group a question."
      ]
    },
    {
      "cell_type": "markdown",
      "metadata": {
        "id": "fbTsk0MdhAhC"
      },
      "source": [
        "## **Classification using Jax**\n",
        "[Brief intro of the section]"
      ]
    },
    {
      "cell_type": "markdown",
      "source": [
        "### 3.1 Logistic regression - <font color='blue'>`Beginner`</font>"
      ],
      "metadata": {
        "id": "wMgxJU0TOX6O"
      }
    },
    {
      "cell_type": "markdown",
      "source": [
        "#### Logits and sigmoid activation function - <font color='blue'>`Beginner`</font>"
      ],
      "metadata": {
        "id": "SE1L3rmaO4UP"
      }
    },
    {
      "cell_type": "markdown",
      "source": [
        "#### Building a simple neural network for classification - <font color='blue'>`Beginner`</font>"
      ],
      "metadata": {
        "id": "EcXXE56hPOhK"
      }
    },
    {
      "cell_type": "markdown",
      "source": [
        "#### Training the model - <font color='blue'>`Beginner`</font>\n",
        "\n",
        "\n"
      ],
      "metadata": {
        "id": "GcSvlekHPWxW"
      }
    },
    {
      "cell_type": "markdown",
      "source": [
        "#### Evaluating the model - <font color='blue'>`Beginner`</font>\n",
        "\n",
        "\n",
        "*   Accuracy\n",
        "*   Precision\n",
        "*   Recall\n",
        "*   F1 score\n",
        "*   Area Under the ROC Curve (AUC-ROC)\n",
        "*   Confusion Matrix\n",
        "\n",
        "\n"
      ],
      "metadata": {
        "id": "sGPvmGWkP1fT"
      }
    },
    {
      "cell_type": "markdown",
      "metadata": {
        "id": "RfFSWUp9hAhC"
      },
      "source": [
        "**Math Task:**\n",
        "\n",
        "[Optional math task or ask multiple choice question. E.g. the derivation of this would equal a, b or c. We could check this at the end of the prac.]\n"
      ]
    },
    {
      "cell_type": "code",
      "execution_count": null,
      "metadata": {
        "cellView": "form",
        "id": "qzr0F1nqhAhD"
      },
      "outputs": [],
      "source": [
        "selection = \"a\"  # @param [\"a\", \"b\", \"c\"]\n",
        "print(f\"You selected: {selection}\")\n",
        "\n",
        "correct_answer = \"a\"\n",
        "assert selection == correct_answer, \"Incorrect answer, hint ...\"\n",
        "\n",
        "print(\"Nice, you got the correct answer!\")"
      ]
    },
    {
      "cell_type": "markdown",
      "metadata": {
        "id": "RUTbHVYnhAhD"
      },
      "source": [
        "Code demonstration"
      ]
    },
    {
      "cell_type": "code",
      "execution_count": null,
      "metadata": {
        "id": "tWMMpYSDhAhE"
      },
      "outputs": [],
      "source": [
        "# Code demonstration"
      ]
    },
    {
      "cell_type": "markdown",
      "metadata": {
        "id": "yoVsZtSxhAhE"
      },
      "source": [
        "**Code Task:**"
      ]
    },
    {
      "cell_type": "code",
      "execution_count": null,
      "metadata": {
        "id": "cmO3DEGGhAhF"
      },
      "outputs": [],
      "source": [
        "# Code to be implemented during practical\n",
        "# You should prove the function signature.\n",
        "def addition(x,y):\n",
        "  return _"
      ]
    },
    {
      "cell_type": "code",
      "source": [
        "# @title Run me to test your code\n",
        "\n",
        "def test_addition(add_fn):\n",
        "  assert add_fn(1,1) == 2, \"Addition of 1 + 1 is incorrect\"\n",
        "  assert add_fn(0,1) == 1, \"Addition of 0 + 1 is incorrect\"\n",
        "  print(\"Nice! Your answer looks correct.\")\n",
        "\n",
        "test_addition(addition)"
      ],
      "metadata": {
        "cellView": "form",
        "id": "UlBBgQafDsHQ"
      },
      "execution_count": null,
      "outputs": []
    },
    {
      "cell_type": "code",
      "execution_count": null,
      "metadata": {
        "cellView": "form",
        "id": "xhJbRdW8DsHS"
      },
      "outputs": [],
      "source": [
        "# @title Answer to code task (Try not to peek until you've given it a good try!')\n",
        "\n",
        "def addition(x,y):\n",
        "  return x + y\n",
        "\n",
        "test_addition(addition)"
      ]
    },
    {
      "cell_type": "markdown",
      "metadata": {
        "id": "K3SVLHuUhAhF"
      },
      "source": [
        "**Group Task:**\n",
        "\n",
        "Task that involves asking your neighbour or a group a question."
      ]
    },
    {
      "cell_type": "markdown",
      "metadata": {
        "id": "SdNPg0pnhAhG"
      },
      "source": [
        "### 3.4 Subsection - <font color='purple'>`Homework`</font>"
      ]
    },
    {
      "cell_type": "markdown",
      "metadata": {
        "id": "paVZs7iohAhG"
      },
      "source": [
        "Math foundations:\n"
      ]
    },
    {
      "cell_type": "markdown",
      "metadata": {
        "id": "Pb5GPIJ1hAhG"
      },
      "source": [
        "**Math Task:**\n",
        "\n",
        "[Optional math task or ask multiple choice question. E.g. the derivation of this would equal a, b or c. We could check this at the end of the prac.]\n"
      ]
    },
    {
      "cell_type": "code",
      "execution_count": null,
      "metadata": {
        "cellView": "form",
        "id": "KQGuKRE4hAhH"
      },
      "outputs": [],
      "source": [
        "selection = \"a\"  # @param [\"a\", \"b\", \"c\"]\n",
        "print(f\"You selected: {selection}\")\n",
        "\n",
        "correct_answer = \"a\"\n",
        "assert selection == correct_answer, \"Incorrect answer, hint ...\"\n",
        "\n",
        "print(\"Nice, you got the correct answer!\")"
      ]
    },
    {
      "cell_type": "markdown",
      "metadata": {
        "id": "ulze--aMhAhI"
      },
      "source": [
        "Code demonstration"
      ]
    },
    {
      "cell_type": "code",
      "execution_count": null,
      "metadata": {
        "id": "AKb3jyPShAhI"
      },
      "outputs": [],
      "source": [
        "# Code demonstration"
      ]
    },
    {
      "cell_type": "markdown",
      "metadata": {
        "id": "RFxl1s5BhAhI"
      },
      "source": [
        "**Code Task:**"
      ]
    },
    {
      "cell_type": "code",
      "execution_count": null,
      "metadata": {
        "id": "3Y0ieLz_hAhJ"
      },
      "outputs": [],
      "source": [
        "# Code to be implemented during practical\n",
        "# You should prove the function signature.\n",
        "def addition(x,y):\n",
        "  return _"
      ]
    },
    {
      "cell_type": "code",
      "source": [
        "# @title Run me to test your code\n",
        "\n",
        "def test_addition(add_fn):\n",
        "  assert add_fn(1,1) == 2, \"Addition of 1 + 1 is incorrect\"\n",
        "  assert add_fn(0,1) == 1, \"Addition of 0 + 1 is incorrect\"\n",
        "  print(\"Nice! Your answer looks correct.\")\n",
        "\n",
        "test_addition(addition)"
      ],
      "metadata": {
        "cellView": "form",
        "id": "ZQrVrCJ2DuVP"
      },
      "execution_count": null,
      "outputs": []
    },
    {
      "cell_type": "code",
      "execution_count": null,
      "metadata": {
        "cellView": "form",
        "id": "d5LtGyaoDuVQ"
      },
      "outputs": [],
      "source": [
        "# @title Answer to code task (Try not to peek until you've given it a good try!')\n",
        "\n",
        "def addition(x,y):\n",
        "  return x + y\n",
        "\n",
        "test_addition(addition)"
      ]
    },
    {
      "cell_type": "markdown",
      "metadata": {
        "id": "MdxcDjuphAhJ"
      },
      "source": [
        "**Group Task:**\n",
        "\n",
        "Task that involves asking your neighbour or a group a question."
      ]
    },
    {
      "cell_type": "markdown",
      "metadata": {
        "id": "fV3YG7QOZD-B"
      },
      "source": [
        "## Conclusion\n",
        "**Summary:**\n",
        "\n",
        "[Summary of the main points/takeaways from the prac.]\n",
        "\n",
        "**Next Steps:**\n",
        "\n",
        "[Next steps for people who have completed the prac, like optional reading (e.g. blogs, papers, courses, youtube videos). This could also link to other pracs.]\n",
        "\n",
        "**Appendix:**\n",
        "\n",
        "[Anything (probably math heavy stuff) we don't have space for in the main practical sections.]\n",
        "\n",
        "**References:**\n",
        "\n",
        "[References for any content used in the notebook.]\n",
        "\n",
        "For other practicals from the Deep Learning Indaba, please visit [here](https://github.com/deep-learning-indaba/indaba-pracs-2023)."
      ]
    },
    {
      "cell_type": "markdown",
      "metadata": {
        "id": "o1ndpYE50BpG"
      },
      "source": [
        "## Feedback\n",
        "\n",
        "Please provide feedback that we can use to improve our practicals in the future."
      ]
    },
    {
      "cell_type": "code",
      "execution_count": null,
      "metadata": {
        "id": "OIZvkhfRz9Jz",
        "collapsed": true
      },
      "outputs": [],
      "source": [
        "# @title Generate Feedback Form. (Run Cell)\n",
        "from IPython.display import HTML\n",
        "\n",
        "HTML(\n",
        "    \"\"\"\n",
        "<iframe\n",
        "\tsrc=\"https://forms.gle/Cg9aoa7czoZCYqxF7\",\n",
        "  width=\"80%\"\n",
        "\theight=\"1200px\" >\n",
        "\tLoading...\n",
        "</iframe>\n",
        "\"\"\"\n",
        ")"
      ]
    },
    {
      "cell_type": "markdown",
      "metadata": {
        "id": "oglV4kHMWnIN"
      },
      "source": [
        "<img src=\"https://baobab.deeplearningindaba.com/static/media/indaba-logo-dark.d5a6196d.png\" width=\"50%\" />"
      ]
    }
  ],
  "metadata": {
    "accelerator": "GPU",
    "colab": {
      "provenance": [],
      "gpuType": "T4"
    },
    "kernelspec": {
      "display_name": "Python 3",
      "name": "python3"
    },
    "language_info": {
      "name": "python",
      "version": "3.8.5"
    },
    "vscode": {
      "interpreter": {
        "hash": "145833166d986a8417df3c7acb65d917d84b716b5a452e57fcacdc66f1a168c9"
      }
    }
  },
  "nbformat": 4,
  "nbformat_minor": 0
}